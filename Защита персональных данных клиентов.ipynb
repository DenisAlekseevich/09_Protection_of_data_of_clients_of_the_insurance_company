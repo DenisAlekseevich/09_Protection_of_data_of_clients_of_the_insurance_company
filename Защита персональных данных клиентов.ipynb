{
 "cells": [
  {
   "cell_type": "markdown",
   "metadata": {
    "toc": true
   },
   "source": [
    "<h1>Содержание<span class=\"tocSkip\"></span></h1>\n",
    "<div class=\"toc\"><ul class=\"toc-item\"><li><span><a href=\"#Загрузка-данных\" data-toc-modified-id=\"Загрузка-данных-1\"><span class=\"toc-item-num\">1&nbsp;&nbsp;</span>Загрузка данных</a></span><ul class=\"toc-item\"><li><span><a href=\"#Вывод:\" data-toc-modified-id=\"Вывод:-1.1\"><span class=\"toc-item-num\">1.1&nbsp;&nbsp;</span>Вывод:</a></span></li></ul></li><li><span><a href=\"#Умножение-матриц\" data-toc-modified-id=\"Умножение-матриц-2\"><span class=\"toc-item-num\">2&nbsp;&nbsp;</span>Умножение матриц</a></span><ul class=\"toc-item\"><li><span><a href=\"#Вывод:\" data-toc-modified-id=\"Вывод:-2.1\"><span class=\"toc-item-num\">2.1&nbsp;&nbsp;</span>Вывод:</a></span></li></ul></li><li><span><a href=\"#Алгоритм-преобразования\" data-toc-modified-id=\"Алгоритм-преобразования-3\"><span class=\"toc-item-num\">3&nbsp;&nbsp;</span>Алгоритм преобразования</a></span><ul class=\"toc-item\"><li><span><a href=\"#Вывод:\" data-toc-modified-id=\"Вывод:-3.1\"><span class=\"toc-item-num\">3.1&nbsp;&nbsp;</span>Вывод:</a></span></li></ul></li><li><span><a href=\"#Проверка-алгоритма\" data-toc-modified-id=\"Проверка-алгоритма-4\"><span class=\"toc-item-num\">4&nbsp;&nbsp;</span>Проверка алгоритма</a></span><ul class=\"toc-item\"><li><span><a href=\"#Вывод:\" data-toc-modified-id=\"Вывод:-4.1\"><span class=\"toc-item-num\">4.1&nbsp;&nbsp;</span>Вывод:</a></span></li></ul></li><li><span><a href=\"#Вывод-про-проекту:\" data-toc-modified-id=\"Вывод-про-проекту:-5\"><span class=\"toc-item-num\">5&nbsp;&nbsp;</span>Вывод про проекту:</a></span></li><li><span><a href=\"#Чек-лист-проверки\" data-toc-modified-id=\"Чек-лист-проверки-6\"><span class=\"toc-item-num\">6&nbsp;&nbsp;</span>Чек-лист проверки</a></span></li></ul></div>"
   ]
  },
  {
   "cell_type": "markdown",
   "metadata": {},
   "source": [
    "# Защита персональных данных клиентов"
   ]
  },
  {
   "cell_type": "markdown",
   "metadata": {},
   "source": [
    "Вам нужно защитить данные клиентов страховой компании «Хоть потоп». Разработайте такой метод преобразования данных, чтобы по ним было сложно восстановить персональную информацию. Обоснуйте корректность его работы.\n",
    "\n",
    "Нужно защитить данные, чтобы при преобразовании качество моделей машинного обучения не ухудшилось. Подбирать наилучшую модель не требуется."
   ]
  },
  {
   "cell_type": "markdown",
   "metadata": {},
   "source": [
    "## Загрузка данных"
   ]
  },
  {
   "cell_type": "code",
   "execution_count": 1,
   "metadata": {},
   "outputs": [],
   "source": [
    "import pandas as pd\n",
    "import numpy as np\n",
    "from sklearn.linear_model import LinearRegression\n",
    "from sklearn.metrics import r2_score"
   ]
  },
  {
   "cell_type": "code",
   "execution_count": 2,
   "metadata": {},
   "outputs": [],
   "source": [
    "data = pd.read_csv('C:\\\\Users\\\\admin\\\\Desktop\\\\DS_yandex\\\\09_Защита персональных данных клиентов\\\\insurance.csv')"
   ]
  },
  {
   "cell_type": "code",
   "execution_count": 3,
   "metadata": {},
   "outputs": [
    {
     "data": {
      "text/html": [
       "<div>\n",
       "<style scoped>\n",
       "    .dataframe tbody tr th:only-of-type {\n",
       "        vertical-align: middle;\n",
       "    }\n",
       "\n",
       "    .dataframe tbody tr th {\n",
       "        vertical-align: top;\n",
       "    }\n",
       "\n",
       "    .dataframe thead th {\n",
       "        text-align: right;\n",
       "    }\n",
       "</style>\n",
       "<table border=\"1\" class=\"dataframe\">\n",
       "  <thead>\n",
       "    <tr style=\"text-align: right;\">\n",
       "      <th></th>\n",
       "      <th>Пол</th>\n",
       "      <th>Возраст</th>\n",
       "      <th>Зарплата</th>\n",
       "      <th>Члены семьи</th>\n",
       "      <th>Страховые выплаты</th>\n",
       "    </tr>\n",
       "  </thead>\n",
       "  <tbody>\n",
       "    <tr>\n",
       "      <th>0</th>\n",
       "      <td>1</td>\n",
       "      <td>41.0</td>\n",
       "      <td>49600.0</td>\n",
       "      <td>1</td>\n",
       "      <td>0</td>\n",
       "    </tr>\n",
       "    <tr>\n",
       "      <th>1</th>\n",
       "      <td>0</td>\n",
       "      <td>46.0</td>\n",
       "      <td>38000.0</td>\n",
       "      <td>1</td>\n",
       "      <td>1</td>\n",
       "    </tr>\n",
       "    <tr>\n",
       "      <th>2</th>\n",
       "      <td>0</td>\n",
       "      <td>29.0</td>\n",
       "      <td>21000.0</td>\n",
       "      <td>0</td>\n",
       "      <td>0</td>\n",
       "    </tr>\n",
       "    <tr>\n",
       "      <th>3</th>\n",
       "      <td>0</td>\n",
       "      <td>21.0</td>\n",
       "      <td>41700.0</td>\n",
       "      <td>2</td>\n",
       "      <td>0</td>\n",
       "    </tr>\n",
       "    <tr>\n",
       "      <th>4</th>\n",
       "      <td>1</td>\n",
       "      <td>28.0</td>\n",
       "      <td>26100.0</td>\n",
       "      <td>0</td>\n",
       "      <td>0</td>\n",
       "    </tr>\n",
       "  </tbody>\n",
       "</table>\n",
       "</div>"
      ],
      "text/plain": [
       "   Пол  Возраст  Зарплата  Члены семьи  Страховые выплаты\n",
       "0    1     41.0   49600.0            1                  0\n",
       "1    0     46.0   38000.0            1                  1\n",
       "2    0     29.0   21000.0            0                  0\n",
       "3    0     21.0   41700.0            2                  0\n",
       "4    1     28.0   26100.0            0                  0"
      ]
     },
     "execution_count": 3,
     "metadata": {},
     "output_type": "execute_result"
    }
   ],
   "source": [
    "data.head(5)"
   ]
  },
  {
   "cell_type": "code",
   "execution_count": 4,
   "metadata": {},
   "outputs": [
    {
     "name": "stdout",
     "output_type": "stream",
     "text": [
      "<class 'pandas.core.frame.DataFrame'>\n",
      "RangeIndex: 5000 entries, 0 to 4999\n",
      "Data columns (total 5 columns):\n",
      " #   Column             Non-Null Count  Dtype  \n",
      "---  ------             --------------  -----  \n",
      " 0   Пол                5000 non-null   int64  \n",
      " 1   Возраст            5000 non-null   float64\n",
      " 2   Зарплата           5000 non-null   float64\n",
      " 3   Члены семьи        5000 non-null   int64  \n",
      " 4   Страховые выплаты  5000 non-null   int64  \n",
      "dtypes: float64(2), int64(3)\n",
      "memory usage: 195.4 KB\n"
     ]
    }
   ],
   "source": [
    "data.info()"
   ]
  },
  {
   "cell_type": "code",
   "execution_count": 5,
   "metadata": {},
   "outputs": [],
   "source": [
    "data = data.astype('int')"
   ]
  },
  {
   "cell_type": "code",
   "execution_count": 6,
   "metadata": {
    "scrolled": true
   },
   "outputs": [
    {
     "data": {
      "text/plain": [
       "Пол                  0\n",
       "Возраст              0\n",
       "Зарплата             0\n",
       "Члены семьи          0\n",
       "Страховые выплаты    0\n",
       "dtype: int64"
      ]
     },
     "execution_count": 6,
     "metadata": {},
     "output_type": "execute_result"
    }
   ],
   "source": [
    "data.isna().sum()"
   ]
  },
  {
   "cell_type": "markdown",
   "metadata": {},
   "source": [
    "### Вывод:"
   ]
  },
  {
   "cell_type": "markdown",
   "metadata": {},
   "source": [
    "Данные загружены и изучены, изменен тип данных в столбах \"Возраст\" и \"Зарплата\", пропуски отсутствуют."
   ]
  },
  {
   "cell_type": "markdown",
   "metadata": {},
   "source": [
    "## Умножение матриц"
   ]
  },
  {
   "cell_type": "markdown",
   "metadata": {},
   "source": [
    "Обозначения:\n",
    "\n",
    "- $X$ — матрица признаков (нулевой столбец состоит из единиц)\n",
    "\n",
    "- $y$ — вектор целевого признака\n",
    "\n",
    "- $P$ — матрица, на которую умножаются признаки\n",
    "\n",
    "- $w$ — вектор весов линейной регрессии (нулевой элемент равен сдвигу)"
   ]
  },
  {
   "cell_type": "markdown",
   "metadata": {},
   "source": [
    "Предсказания:\n",
    "\n",
    "$$\n",
    "a = Xw\n",
    "$$\n",
    "\n",
    "Задача обучения:\n",
    "\n",
    "$$\n",
    "w = \\arg\\min_w MSE(Xw, y)\n",
    "$$\n",
    "\n",
    "Формула обучения:\n",
    "\n",
    "$$\n",
    "w = (X^T X)^{-1} X^T y\n",
    "$$"
   ]
  },
  {
   "cell_type": "markdown",
   "metadata": {},
   "source": [
    "**Вопрос:** Признаки умножают на обратимую матрицу. Изменится ли качество линейной регрессии? (Её можно обучить заново.)\n",
    "\n",
    "**Ответ:** Нет, не изменится.\n"
   ]
  },
  {
   "cell_type": "markdown",
   "metadata": {},
   "source": [
    "**Обоснование:** Заменим исходную матрицу $X$ на некую обратимую матрицу $P$: \n",
    "\n",
    "$$N = X P$$\n",
    "\n",
    "Рассчитаем для новой матрица веса $w_N$:\n",
    "\n",
    "$$w_N = (N^T N)^{-1} N^T y $$\n",
    "\n",
    "Подставим $X P$ вместо $N$:\n",
    "\n",
    "$$ w_N = ((X P)^T (X P))^{-1} (X P)^T y$$\n",
    "\n",
    "Начнем раскрывать скобки:\n",
    "\n",
    "$$ w_N = (P^T X^T (X P))^{-1} P^T X^T y $$\n",
    "\n",
    "$$ w_N = (X^T (X P))^{-1} (P^T)^{-1} P^T X^T y  ==> (X^T (X P))^{-1} (P^{-1})^T P^T X^T y ==> (X^T (X P))^{-1} (P^{-1} P)^T X^T y$$\n",
    "\n",
    "Матрица $P$ обратимая, а значит $ (P)^{-1} P = E$, где $E$ -  единичная матрица, так же $E^T = E$:\n",
    "\n",
    "$$ w_N = (X^T (X P))^{-1} E^T X^T y ==> ((X^T X) P)^{-1} X^T y ==> P^{-1}(X^T X)^{-1} X^T y$$\n",
    "\n",
    "Мы уже знаем, что $w = (X^T X)^{-1} X^T y$, подставим это в формулу $w_n$:\n",
    "\n",
    "$$ w_N = P^{-1}w$$\n",
    "\n",
    "Теперь рассчитаем предсказания $a_N$ для матрицы $N$:\n",
    "\n",
    "$$ a_N = N w_n = X P P^{-1} w  $$\n",
    "\n",
    "Произведение $P P^{-1}$ дает единичную матрицу $E$:\n",
    "\n",
    "$$ a_N = X E w = X w = a$$\n",
    "\n",
    "Тем самым доказывается, что предсказания $a$ для матрицы $X$ равны предсказаниям $a_n$ для матрицы $(X P)$."
   ]
  },
  {
   "cell_type": "markdown",
   "metadata": {},
   "source": [
    "### Вывод:"
   ]
  },
  {
   "cell_type": "markdown",
   "metadata": {},
   "source": [
    "Доказано, что предсказания $a$ для матрицы $X$ равны предсказаниям $a_n$ для матрицы $(X P)$. "
   ]
  },
  {
   "cell_type": "markdown",
   "metadata": {},
   "source": [
    "## Алгоритм преобразования"
   ]
  },
  {
   "cell_type": "markdown",
   "metadata": {},
   "source": [
    "**Алгоритм:**\n",
    "\n",
    "1. Запись в переменные признаков и целевого признака;\n",
    "\n",
    "2. Генерация случайной матрицы и проверка её обратимости;\n",
    "\n",
    "3. Обучение модели на исходных признаках;\n",
    "\n",
    "4. Получение метрики R2 на обученной модели;\n",
    "\n",
    "5. Умножение обратной матрицы на матрицу признаков;\n",
    "\n",
    "6. Обучение модели на преобразованых данных;\n",
    "\n",
    "7. Получение мерики R2 на преобразованых данных;\n",
    "\n",
    "8. Сравнение метрик."
   ]
  },
  {
   "cell_type": "markdown",
   "metadata": {},
   "source": [
    "**Обоснование:**\n",
    "\n",
    "Не совсем понятно, что здесь обосновывать, всё обоснованно выше."
   ]
  },
  {
   "cell_type": "markdown",
   "metadata": {},
   "source": [
    "### Вывод:"
   ]
  },
  {
   "cell_type": "markdown",
   "metadata": {},
   "source": [
    "В данном шаге мы привели алгоритм преобразования данных."
   ]
  },
  {
   "cell_type": "markdown",
   "metadata": {},
   "source": [
    "## Проверка алгоритма"
   ]
  },
  {
   "cell_type": "markdown",
   "metadata": {},
   "source": [
    "**1. Запись в переменные признаков и целевого признака**"
   ]
  },
  {
   "cell_type": "code",
   "execution_count": 7,
   "metadata": {},
   "outputs": [],
   "source": [
    "features = data.drop('Страховые выплаты', axis=1).values\n",
    "target = data['Страховые выплаты'].values"
   ]
  },
  {
   "cell_type": "markdown",
   "metadata": {},
   "source": [
    "**2. Генерация случайной обратной матрицы**"
   ]
  },
  {
   "cell_type": "code",
   "execution_count": 8,
   "metadata": {},
   "outputs": [
    {
     "data": {
      "text/plain": [
       "array([[ 0.47084537,  0.80046089, -0.78646583, -0.69635017],\n",
       "       [ 1.40685454, -1.66381486,  0.36380446, -0.06902221],\n",
       "       [ 0.20149489, -0.65435128, -1.5307868 ,  1.39316897],\n",
       "       [-0.17081503,  1.0498639 ,  0.22805616, -1.66327051]])"
      ]
     },
     "execution_count": 8,
     "metadata": {},
     "output_type": "execute_result"
    }
   ],
   "source": [
    "matrix = np.random.normal(size = (4,4)) \n",
    "matrix"
   ]
  },
  {
   "cell_type": "markdown",
   "metadata": {},
   "source": [
    "Проверим эту матрицу на обратимость:"
   ]
  },
  {
   "cell_type": "code",
   "execution_count": 9,
   "metadata": {},
   "outputs": [
    {
     "data": {
      "text/plain": [
       "array([[ 1.45246724,  0.18756001, -0.90652865, -1.37519374],\n",
       "       [ 1.25989914, -0.44415145, -0.94683918, -1.3021223 ],\n",
       "       [ 0.27494229, -0.06642014, -0.94495611, -0.90385488],\n",
       "       [ 0.68378635, -0.30871958, -0.6341161 , -1.40583092]])"
      ]
     },
     "execution_count": 9,
     "metadata": {},
     "output_type": "execute_result"
    }
   ],
   "source": [
    "matrix = np.linalg.inv(matrix)\n",
    "matrix"
   ]
  },
  {
   "cell_type": "markdown",
   "metadata": {},
   "source": [
    "**3. Обучение модели на исходных признаках**"
   ]
  },
  {
   "cell_type": "code",
   "execution_count": 10,
   "metadata": {},
   "outputs": [
    {
     "data": {
      "text/plain": [
       "LinearRegression()"
      ]
     },
     "execution_count": 10,
     "metadata": {},
     "output_type": "execute_result"
    }
   ],
   "source": [
    "model = LinearRegression()\n",
    "model.fit(features, target)"
   ]
  },
  {
   "cell_type": "markdown",
   "metadata": {},
   "source": [
    "**4. Получение метрики R2 на обученной модели**"
   ]
  },
  {
   "cell_type": "code",
   "execution_count": 11,
   "metadata": {},
   "outputs": [],
   "source": [
    "predictions = model.predict(features)"
   ]
  },
  {
   "cell_type": "markdown",
   "metadata": {},
   "source": [
    "**5. Умножение обратной матрицы на матрицу признаков**"
   ]
  },
  {
   "cell_type": "code",
   "execution_count": 12,
   "metadata": {},
   "outputs": [],
   "source": [
    "features_new = features @ matrix"
   ]
  },
  {
   "cell_type": "markdown",
   "metadata": {},
   "source": [
    "**6. Обучение модели на преобразованых данных** "
   ]
  },
  {
   "cell_type": "code",
   "execution_count": 13,
   "metadata": {},
   "outputs": [
    {
     "data": {
      "text/plain": [
       "LinearRegression()"
      ]
     },
     "execution_count": 13,
     "metadata": {},
     "output_type": "execute_result"
    }
   ],
   "source": [
    "model.fit(features_new, target)"
   ]
  },
  {
   "cell_type": "markdown",
   "metadata": {},
   "source": [
    "**7. Получение мерики R2 на преобразованых данных**"
   ]
  },
  {
   "cell_type": "code",
   "execution_count": 14,
   "metadata": {},
   "outputs": [],
   "source": [
    "predictions_ = model.predict(features_new)"
   ]
  },
  {
   "cell_type": "markdown",
   "metadata": {},
   "source": [
    "**8. Сравнение метрик** "
   ]
  },
  {
   "cell_type": "code",
   "execution_count": 15,
   "metadata": {},
   "outputs": [
    {
     "name": "stdout",
     "output_type": "stream",
     "text": [
      "R2 линейной регрессии:\n",
      "исходные признаки -------- 0.42494550308169177\n",
      "преобразованные признаки - 0.424945503081686\n"
     ]
    }
   ],
   "source": [
    "print('R2 линейной регрессии:')\n",
    "print('исходные признаки --------',r2_score(target, predictions))\n",
    "print('преобразованные признаки -',r2_score(target, predictions_))"
   ]
  },
  {
   "cell_type": "markdown",
   "metadata": {},
   "source": [
    "### Вывод:"
   ]
  },
  {
   "cell_type": "markdown",
   "metadata": {},
   "source": [
    "Метрика R2 для исходных и преобразованных признаков одинакова(разницей в 13-м знаке после запятой можно пренебречь)."
   ]
  },
  {
   "cell_type": "markdown",
   "metadata": {},
   "source": [
    "## Вывод про проекту:"
   ]
  },
  {
   "cell_type": "markdown",
   "metadata": {},
   "source": [
    "В данном проекте ставилась задача по защите данных с помощью преобразования данных. Был выбран метод перемножения признаков и случайной обратной матрицы. Приведено теоретическое обоснование того, что такое перемножение не исказит предсказаний обученной на таких данных модели, по сравнению с предсказаниями модели, обученной на исходных данных. Произведено обучение моделей на исходных и преобразованных данных и сравнены метрики R2  этих моделей. Метрики оказались одинаковыми, что говорит о том, что нам удалось найти способ шифрования данных без потери качества работы модели. Задача выполнена."
   ]
  }
 ],
 "metadata": {
  "ExecuteTimeLog": [
   {
    "duration": 1017,
    "start_time": "2021-10-20T11:25:13.877Z"
   },
   {
    "duration": 20,
    "start_time": "2021-10-20T11:26:27.103Z"
   },
   {
    "duration": 19,
    "start_time": "2021-10-20T11:26:27.886Z"
   },
   {
    "duration": 8,
    "start_time": "2021-10-20T11:26:43.202Z"
   },
   {
    "duration": 7,
    "start_time": "2021-10-20T11:27:36.862Z"
   },
   {
    "duration": 4,
    "start_time": "2021-10-20T11:30:13.496Z"
   },
   {
    "duration": 6,
    "start_time": "2021-10-20T11:30:23.460Z"
   },
   {
    "duration": 10,
    "start_time": "2021-10-20T11:30:49.157Z"
   },
   {
    "duration": 5,
    "start_time": "2021-10-20T11:30:57.949Z"
   },
   {
    "duration": 3,
    "start_time": "2021-10-20T11:43:01.411Z"
   },
   {
    "duration": 6,
    "start_time": "2021-10-20T11:43:09.896Z"
   },
   {
    "duration": 3,
    "start_time": "2021-10-20T11:43:18.115Z"
   },
   {
    "duration": 6,
    "start_time": "2021-10-20T11:43:20.720Z"
   },
   {
    "duration": 1371,
    "start_time": "2021-10-21T07:53:12.297Z"
   },
   {
    "duration": 21,
    "start_time": "2021-10-21T07:53:13.670Z"
   },
   {
    "duration": 21,
    "start_time": "2021-10-21T07:53:13.693Z"
   },
   {
    "duration": 9,
    "start_time": "2021-10-21T07:53:14.705Z"
   },
   {
    "duration": 5,
    "start_time": "2021-10-21T07:53:17.720Z"
   },
   {
    "duration": 7,
    "start_time": "2021-10-21T07:53:18.624Z"
   },
   {
    "duration": 516,
    "start_time": "2021-10-21T07:53:19.464Z"
   },
   {
    "duration": 18,
    "start_time": "2021-10-21T07:59:35.587Z"
   },
   {
    "duration": 9,
    "start_time": "2021-10-21T07:59:47.580Z"
   },
   {
    "duration": 19,
    "start_time": "2021-10-21T08:00:05.013Z"
   },
   {
    "duration": 7,
    "start_time": "2021-10-21T08:00:35.479Z"
   },
   {
    "duration": 1162,
    "start_time": "2021-10-25T09:00:33.942Z"
   },
   {
    "duration": 16,
    "start_time": "2021-10-25T09:00:37.317Z"
   },
   {
    "duration": 14,
    "start_time": "2021-10-25T09:00:38.446Z"
   },
   {
    "duration": 7,
    "start_time": "2021-10-25T09:00:40.094Z"
   },
   {
    "duration": 5,
    "start_time": "2021-10-25T09:00:49.101Z"
   },
   {
    "duration": 5,
    "start_time": "2021-10-25T09:00:50.494Z"
   },
   {
    "duration": 1078,
    "start_time": "2021-11-07T09:31:32.518Z"
   },
   {
    "duration": 18,
    "start_time": "2021-11-07T09:31:33.598Z"
   },
   {
    "duration": 16,
    "start_time": "2021-11-07T09:31:33.618Z"
   },
   {
    "duration": 10,
    "start_time": "2021-11-07T09:31:33.636Z"
   },
   {
    "duration": 4,
    "start_time": "2021-11-07T09:31:33.647Z"
   },
   {
    "duration": 6,
    "start_time": "2021-11-07T09:31:33.653Z"
   },
   {
    "duration": 249,
    "start_time": "2021-11-07T09:31:33.660Z"
   },
   {
    "duration": -301,
    "start_time": "2021-11-07T09:31:34.211Z"
   },
   {
    "duration": -302,
    "start_time": "2021-11-07T09:31:34.213Z"
   },
   {
    "duration": -302,
    "start_time": "2021-11-07T09:31:34.214Z"
   },
   {
    "duration": 4,
    "start_time": "2021-11-07T09:31:58.881Z"
   },
   {
    "duration": 5,
    "start_time": "2021-11-07T09:32:00.337Z"
   },
   {
    "duration": 177,
    "start_time": "2021-11-07T09:32:01.841Z"
   },
   {
    "duration": 192,
    "start_time": "2021-11-07T09:32:13.817Z"
   },
   {
    "duration": 166,
    "start_time": "2021-11-07T09:34:37.730Z"
   },
   {
    "duration": 5,
    "start_time": "2021-11-07T09:35:21.867Z"
   },
   {
    "duration": 5,
    "start_time": "2021-11-07T09:35:43.933Z"
   },
   {
    "duration": 12,
    "start_time": "2021-11-07T09:35:46.109Z"
   },
   {
    "duration": 4,
    "start_time": "2021-11-07T10:24:27.792Z"
   },
   {
    "duration": 5,
    "start_time": "2021-11-07T10:24:29.056Z"
   },
   {
    "duration": 5,
    "start_time": "2021-11-07T10:24:31.137Z"
   },
   {
    "duration": 11,
    "start_time": "2021-11-07T10:24:33.696Z"
   },
   {
    "duration": 3,
    "start_time": "2021-11-07T10:24:37.960Z"
   },
   {
    "duration": 3,
    "start_time": "2021-11-07T10:24:39.760Z"
   },
   {
    "duration": 5,
    "start_time": "2021-11-07T10:24:41.144Z"
   },
   {
    "duration": 7,
    "start_time": "2021-11-07T10:24:42.544Z"
   },
   {
    "duration": 5,
    "start_time": "2021-11-07T10:24:43.969Z"
   },
   {
    "duration": 6,
    "start_time": "2021-11-07T10:25:39.363Z"
   },
   {
    "duration": 5,
    "start_time": "2021-11-07T10:26:03.415Z"
   },
   {
    "duration": 1043,
    "start_time": "2021-11-07T10:36:39.170Z"
   },
   {
    "duration": 111,
    "start_time": "2021-11-07T10:36:40.215Z"
   },
   {
    "duration": 14,
    "start_time": "2021-11-07T10:36:40.328Z"
   },
   {
    "duration": 8,
    "start_time": "2021-11-07T10:36:40.344Z"
   },
   {
    "duration": 4,
    "start_time": "2021-11-07T10:36:40.353Z"
   },
   {
    "duration": 6,
    "start_time": "2021-11-07T10:36:40.359Z"
   },
   {
    "duration": 4,
    "start_time": "2021-11-07T10:36:40.366Z"
   },
   {
    "duration": 6,
    "start_time": "2021-11-07T10:36:40.372Z"
   },
   {
    "duration": 14,
    "start_time": "2021-11-07T10:36:40.379Z"
   },
   {
    "duration": 9,
    "start_time": "2021-11-07T10:36:40.395Z"
   },
   {
    "duration": 86,
    "start_time": "2021-11-07T10:36:40.406Z"
   },
   {
    "duration": 5,
    "start_time": "2021-11-07T10:36:40.495Z"
   },
   {
    "duration": 94,
    "start_time": "2021-11-07T10:36:40.502Z"
   },
   {
    "duration": 4,
    "start_time": "2021-11-07T10:36:40.598Z"
   },
   {
    "duration": 89,
    "start_time": "2021-11-07T10:36:40.604Z"
   },
   {
    "duration": 990,
    "start_time": "2021-11-07T10:38:07.401Z"
   },
   {
    "duration": 18,
    "start_time": "2021-11-07T10:38:08.393Z"
   },
   {
    "duration": 18,
    "start_time": "2021-11-07T10:38:08.414Z"
   },
   {
    "duration": 11,
    "start_time": "2021-11-07T10:38:08.433Z"
   },
   {
    "duration": 3,
    "start_time": "2021-11-07T10:38:08.446Z"
   },
   {
    "duration": 14,
    "start_time": "2021-11-07T10:38:08.451Z"
   },
   {
    "duration": 10,
    "start_time": "2021-11-07T10:38:08.467Z"
   },
   {
    "duration": 7,
    "start_time": "2021-11-07T10:38:08.479Z"
   },
   {
    "duration": 12,
    "start_time": "2021-11-07T10:38:08.487Z"
   },
   {
    "duration": 13,
    "start_time": "2021-11-07T10:38:08.500Z"
   },
   {
    "duration": 81,
    "start_time": "2021-11-07T10:38:08.515Z"
   },
   {
    "duration": 97,
    "start_time": "2021-11-07T10:38:08.598Z"
   },
   {
    "duration": 96,
    "start_time": "2021-11-07T10:38:08.698Z"
   },
   {
    "duration": 4,
    "start_time": "2021-11-07T10:38:08.795Z"
   },
   {
    "duration": 9,
    "start_time": "2021-11-07T10:38:08.801Z"
   },
   {
    "duration": 2207,
    "start_time": "2021-11-07T11:12:11.415Z"
   },
   {
    "duration": 58,
    "start_time": "2021-11-07T11:12:13.625Z"
   },
   {
    "duration": 21,
    "start_time": "2021-11-07T11:12:13.687Z"
   },
   {
    "duration": 9,
    "start_time": "2021-11-07T11:12:13.711Z"
   },
   {
    "duration": 64,
    "start_time": "2021-11-07T11:12:13.722Z"
   },
   {
    "duration": 8,
    "start_time": "2021-11-07T11:12:13.789Z"
   },
   {
    "duration": 6,
    "start_time": "2021-11-07T11:19:14.875Z"
   },
   {
    "duration": 6,
    "start_time": "2021-11-07T11:19:15.573Z"
   },
   {
    "duration": 7,
    "start_time": "2021-11-07T11:19:16.261Z"
   },
   {
    "duration": 8,
    "start_time": "2021-11-07T11:19:46.947Z"
   },
   {
    "duration": 17,
    "start_time": "2021-11-07T11:19:47.887Z"
   },
   {
    "duration": 4,
    "start_time": "2021-11-07T11:19:48.249Z"
   },
   {
    "duration": 7,
    "start_time": "2021-11-07T11:19:48.645Z"
   },
   {
    "duration": 14,
    "start_time": "2021-11-07T11:19:49.152Z"
   },
   {
    "duration": 7,
    "start_time": "2021-11-07T11:19:52.835Z"
   },
   {
    "duration": 1339,
    "start_time": "2021-11-07T16:55:18.952Z"
   },
   {
    "duration": 18,
    "start_time": "2021-11-07T16:55:20.294Z"
   },
   {
    "duration": 36,
    "start_time": "2021-11-07T16:55:20.316Z"
   },
   {
    "duration": 19,
    "start_time": "2021-11-07T16:55:20.355Z"
   },
   {
    "duration": 12,
    "start_time": "2021-11-07T16:55:20.376Z"
   },
   {
    "duration": 10,
    "start_time": "2021-11-07T16:55:20.390Z"
   },
   {
    "duration": 9,
    "start_time": "2021-11-07T16:55:20.403Z"
   },
   {
    "duration": 12,
    "start_time": "2021-11-07T16:55:20.416Z"
   },
   {
    "duration": 39,
    "start_time": "2021-11-07T16:55:20.431Z"
   },
   {
    "duration": 15,
    "start_time": "2021-11-07T16:55:20.474Z"
   },
   {
    "duration": 102,
    "start_time": "2021-11-07T16:55:20.568Z"
   },
   {
    "duration": 95,
    "start_time": "2021-11-07T16:55:20.673Z"
   },
   {
    "duration": 8,
    "start_time": "2021-11-07T16:55:20.771Z"
   },
   {
    "duration": 86,
    "start_time": "2021-11-07T16:55:20.782Z"
   },
   {
    "duration": 99,
    "start_time": "2021-11-07T16:55:20.872Z"
   },
   {
    "duration": 1342,
    "start_time": "2021-11-08T15:16:45.767Z"
   },
   {
    "duration": 22,
    "start_time": "2021-11-08T15:16:47.111Z"
   },
   {
    "duration": 30,
    "start_time": "2021-11-08T15:16:47.136Z"
   },
   {
    "duration": 9,
    "start_time": "2021-11-08T15:16:47.169Z"
   },
   {
    "duration": 6,
    "start_time": "2021-11-08T15:16:47.180Z"
   },
   {
    "duration": 12,
    "start_time": "2021-11-08T15:16:47.189Z"
   },
   {
    "duration": 10,
    "start_time": "2021-11-08T15:16:47.203Z"
   },
   {
    "duration": 1206,
    "start_time": "2021-11-08T15:16:47.216Z"
   },
   {
    "duration": -878,
    "start_time": "2021-11-08T15:16:49.304Z"
   },
   {
    "duration": -880,
    "start_time": "2021-11-08T15:16:49.307Z"
   },
   {
    "duration": -890,
    "start_time": "2021-11-08T15:16:49.319Z"
   },
   {
    "duration": -889,
    "start_time": "2021-11-08T15:16:49.321Z"
   },
   {
    "duration": -890,
    "start_time": "2021-11-08T15:16:49.324Z"
   },
   {
    "duration": -890,
    "start_time": "2021-11-08T15:16:49.326Z"
   },
   {
    "duration": -891,
    "start_time": "2021-11-08T15:16:49.329Z"
   }
  ],
  "kernelspec": {
   "display_name": "Python 3 (ipykernel)",
   "language": "python",
   "name": "python3"
  },
  "language_info": {
   "codemirror_mode": {
    "name": "ipython",
    "version": 3
   },
   "file_extension": ".py",
   "mimetype": "text/x-python",
   "name": "python",
   "nbconvert_exporter": "python",
   "pygments_lexer": "ipython3",
   "version": "3.9.12"
  },
  "toc": {
   "base_numbering": 1,
   "nav_menu": {},
   "number_sections": true,
   "sideBar": true,
   "skip_h1_title": true,
   "title_cell": "Содержание",
   "title_sidebar": "Contents",
   "toc_cell": true,
   "toc_position": {},
   "toc_section_display": true,
   "toc_window_display": true
  }
 },
 "nbformat": 4,
 "nbformat_minor": 2
}
